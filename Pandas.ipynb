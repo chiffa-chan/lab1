{
  "nbformat": 4,
  "nbformat_minor": 0,
  "metadata": {
    "colab": {
      "name": "Pandas.ipynb",
      "provenance": [],
      "collapsed_sections": [],
      "include_colab_link": true
    },
    "kernelspec": {
      "name": "python3",
      "display_name": "Python 3"
    }
  },
  "cells": [
    {
      "cell_type": "markdown",
      "metadata": {
        "id": "view-in-github",
        "colab_type": "text"
      },
      "source": [
        "<a href=\"https://colab.research.google.com/github/chiffa-chan/lab1/blob/master/Pandas.ipynb\" target=\"_parent\"><img src=\"https://colab.research.google.com/assets/colab-badge.svg\" alt=\"Open In Colab\"/></a>"
      ]
    },
    {
      "cell_type": "code",
      "metadata": {
        "id": "2wGIZiP3ovSL",
        "colab_type": "code",
        "colab": {}
      },
      "source": [
        "# 1. Подключение Pandas и NumPy\n",
        "import pandas as pd\n",
        "import numpy as np"
      ],
      "execution_count": 0,
      "outputs": []
    },
    {
      "cell_type": "code",
      "metadata": {
        "id": "nz20CIdeoZYP",
        "colab_type": "code",
        "outputId": "ae000590-8c2e-4c4a-a0ba-33f5841cd13f",
        "colab": {
          "base_uri": "https://localhost:8080/",
          "height": 136
        }
      },
      "source": [
        "# 2. Пример создания таблицы (DataFrame) с помощью кода\n",
        "df_init = pd.DataFrame({\n",
        "    'имя': ['ТЭЦ-4', 'ТЭЦ-5', 'ГЭС'],\n",
        "    'мощность': [384, 1200, 480],\n",
        "    'компания': ['СГК', 'СГК', 'РусГидро']\n",
        "})\n",
        "\n",
        "df_init.head()"
      ],
      "execution_count": 0,
      "outputs": [
        {
          "output_type": "execute_result",
          "data": {
            "text/html": [
              "<div>\n",
              "<style scoped>\n",
              "    .dataframe tbody tr th:only-of-type {\n",
              "        vertical-align: middle;\n",
              "    }\n",
              "\n",
              "    .dataframe tbody tr th {\n",
              "        vertical-align: top;\n",
              "    }\n",
              "\n",
              "    .dataframe thead th {\n",
              "        text-align: right;\n",
              "    }\n",
              "</style>\n",
              "<table border=\"1\" class=\"dataframe\">\n",
              "  <thead>\n",
              "    <tr style=\"text-align: right;\">\n",
              "      <th></th>\n",
              "      <th>имя</th>\n",
              "      <th>мощность</th>\n",
              "      <th>компания</th>\n",
              "    </tr>\n",
              "  </thead>\n",
              "  <tbody>\n",
              "    <tr>\n",
              "      <th>0</th>\n",
              "      <td>ТЭЦ-4</td>\n",
              "      <td>384</td>\n",
              "      <td>СГК</td>\n",
              "    </tr>\n",
              "    <tr>\n",
              "      <th>1</th>\n",
              "      <td>ТЭЦ-5</td>\n",
              "      <td>1200</td>\n",
              "      <td>СГК</td>\n",
              "    </tr>\n",
              "    <tr>\n",
              "      <th>2</th>\n",
              "      <td>ГЭС</td>\n",
              "      <td>480</td>\n",
              "      <td>РусГидро</td>\n",
              "    </tr>\n",
              "  </tbody>\n",
              "</table>\n",
              "</div>"
            ],
            "text/plain": [
              "     имя  мощность  компания\n",
              "0  ТЭЦ-4       384       СГК\n",
              "1  ТЭЦ-5      1200       СГК\n",
              "2    ГЭС       480  РусГидро"
            ]
          },
          "metadata": {
            "tags": []
          },
          "execution_count": 2
        }
      ]
    },
    {
      "cell_type": "code",
      "metadata": {
        "id": "qIIjd2YjwZex",
        "colab_type": "code",
        "outputId": "993bd0f4-d7f5-4c9e-c3b6-c1d105d3660c",
        "colab": {
          "base_uri": "https://localhost:8080/",
          "height": 151
        }
      },
      "source": [
        "# 3. Добавление строк\n",
        "# Для добавления строк можно использовать функцию append. По сути здесь создается еще одна таблица тем же способом, что df_init. Затем добавляется к df_init\n",
        "df_exted = df_init.append(pd.DataFrame({'имя': ['ТЭЦ-2', 'ТЭЦ-3'], 'мощность': [340, 511.5], 'компания': ['СГК', 'СГК']}), ignore_index = True)\n",
        "\n",
        "# первые строки таблицы можно вывести на экран в более простом виде, применив функцию print.\n",
        "print(df_exted)\n",
        "print()\n",
        "\n",
        "# Получение списка имен столбцов\n",
        "print('имена столбцов:', df_exted.columns.values)"
      ],
      "execution_count": 0,
      "outputs": [
        {
          "output_type": "stream",
          "text": [
            "     имя  мощность  компания\n",
            "0  ТЭЦ-4     384.0       СГК\n",
            "1  ТЭЦ-5    1200.0       СГК\n",
            "2    ГЭС     480.0  РусГидро\n",
            "3  ТЭЦ-2     340.0       СГК\n",
            "4  ТЭЦ-3     511.5       СГК\n",
            "\n",
            "имена столбцов: ['имя' 'мощность' 'компания']\n"
          ],
          "name": "stdout"
        }
      ]
    },
    {
      "cell_type": "code",
      "metadata": {
        "id": "w0rnh62oOQfi",
        "colab_type": "code",
        "outputId": "8b7fb83d-b476-4faf-d14d-50204b5d2a98",
        "colab": {
          "base_uri": "https://localhost:8080/",
          "height": 138
        }
      },
      "source": [
        "# Можно делать разничные визуальные эффекты, и управлять форматом отображения таблицных данных, \n",
        "# но здесь их рассматривать не будем (https://pandas.pydata.org/pandas-docs/stable/user_guide/style.html).\n",
        "df_exted.style.bar(color = '#00FF00', vmin = 0).format({'мощность': '{:.1f}'})"
      ],
      "execution_count": 0,
      "outputs": [
        {
          "output_type": "execute_result",
          "data": {
            "text/html": [
              "<style  type=\"text/css\" >\n",
              "    #T_8affa14a_938c_11ea_8689_0242ac1c0002row0_col1 {\n",
              "            width:  10em;\n",
              "             height:  80%;\n",
              "            background:  linear-gradient(90deg,#00FF00 32.0%, transparent 32.0%);\n",
              "        }    #T_8affa14a_938c_11ea_8689_0242ac1c0002row1_col1 {\n",
              "            width:  10em;\n",
              "             height:  80%;\n",
              "            background:  linear-gradient(90deg,#00FF00 100.0%, transparent 100.0%);\n",
              "        }    #T_8affa14a_938c_11ea_8689_0242ac1c0002row2_col1 {\n",
              "            width:  10em;\n",
              "             height:  80%;\n",
              "            background:  linear-gradient(90deg,#00FF00 40.0%, transparent 40.0%);\n",
              "        }    #T_8affa14a_938c_11ea_8689_0242ac1c0002row3_col1 {\n",
              "            width:  10em;\n",
              "             height:  80%;\n",
              "            background:  linear-gradient(90deg,#00FF00 28.3%, transparent 28.3%);\n",
              "        }    #T_8affa14a_938c_11ea_8689_0242ac1c0002row4_col1 {\n",
              "            width:  10em;\n",
              "             height:  80%;\n",
              "            background:  linear-gradient(90deg,#00FF00 42.6%, transparent 42.6%);\n",
              "        }</style><table id=\"T_8affa14a_938c_11ea_8689_0242ac1c0002\" ><thead>    <tr>        <th class=\"blank level0\" ></th>        <th class=\"col_heading level0 col0\" >имя</th>        <th class=\"col_heading level0 col1\" >мощность</th>        <th class=\"col_heading level0 col2\" >компания</th>    </tr></thead><tbody>\n",
              "                <tr>\n",
              "                        <th id=\"T_8affa14a_938c_11ea_8689_0242ac1c0002level0_row0\" class=\"row_heading level0 row0\" >0</th>\n",
              "                        <td id=\"T_8affa14a_938c_11ea_8689_0242ac1c0002row0_col0\" class=\"data row0 col0\" >ТЭЦ-4</td>\n",
              "                        <td id=\"T_8affa14a_938c_11ea_8689_0242ac1c0002row0_col1\" class=\"data row0 col1\" >384.0</td>\n",
              "                        <td id=\"T_8affa14a_938c_11ea_8689_0242ac1c0002row0_col2\" class=\"data row0 col2\" >СГК</td>\n",
              "            </tr>\n",
              "            <tr>\n",
              "                        <th id=\"T_8affa14a_938c_11ea_8689_0242ac1c0002level0_row1\" class=\"row_heading level0 row1\" >1</th>\n",
              "                        <td id=\"T_8affa14a_938c_11ea_8689_0242ac1c0002row1_col0\" class=\"data row1 col0\" >ТЭЦ-5</td>\n",
              "                        <td id=\"T_8affa14a_938c_11ea_8689_0242ac1c0002row1_col1\" class=\"data row1 col1\" >1200.0</td>\n",
              "                        <td id=\"T_8affa14a_938c_11ea_8689_0242ac1c0002row1_col2\" class=\"data row1 col2\" >СГК</td>\n",
              "            </tr>\n",
              "            <tr>\n",
              "                        <th id=\"T_8affa14a_938c_11ea_8689_0242ac1c0002level0_row2\" class=\"row_heading level0 row2\" >2</th>\n",
              "                        <td id=\"T_8affa14a_938c_11ea_8689_0242ac1c0002row2_col0\" class=\"data row2 col0\" >ГЭС</td>\n",
              "                        <td id=\"T_8affa14a_938c_11ea_8689_0242ac1c0002row2_col1\" class=\"data row2 col1\" >480.0</td>\n",
              "                        <td id=\"T_8affa14a_938c_11ea_8689_0242ac1c0002row2_col2\" class=\"data row2 col2\" >РусГидро</td>\n",
              "            </tr>\n",
              "            <tr>\n",
              "                        <th id=\"T_8affa14a_938c_11ea_8689_0242ac1c0002level0_row3\" class=\"row_heading level0 row3\" >3</th>\n",
              "                        <td id=\"T_8affa14a_938c_11ea_8689_0242ac1c0002row3_col0\" class=\"data row3 col0\" >ТЭЦ-2</td>\n",
              "                        <td id=\"T_8affa14a_938c_11ea_8689_0242ac1c0002row3_col1\" class=\"data row3 col1\" >340.0</td>\n",
              "                        <td id=\"T_8affa14a_938c_11ea_8689_0242ac1c0002row3_col2\" class=\"data row3 col2\" >СГК</td>\n",
              "            </tr>\n",
              "            <tr>\n",
              "                        <th id=\"T_8affa14a_938c_11ea_8689_0242ac1c0002level0_row4\" class=\"row_heading level0 row4\" >4</th>\n",
              "                        <td id=\"T_8affa14a_938c_11ea_8689_0242ac1c0002row4_col0\" class=\"data row4 col0\" >ТЭЦ-3</td>\n",
              "                        <td id=\"T_8affa14a_938c_11ea_8689_0242ac1c0002row4_col1\" class=\"data row4 col1\" >511.5</td>\n",
              "                        <td id=\"T_8affa14a_938c_11ea_8689_0242ac1c0002row4_col2\" class=\"data row4 col2\" >СГК</td>\n",
              "            </tr>\n",
              "    </tbody></table>"
            ],
            "text/plain": [
              "<pandas.io.formats.style.Styler at 0x7fbcd7bdc588>"
            ]
          },
          "metadata": {
            "tags": []
          },
          "execution_count": 5
        }
      ]
    },
    {
      "cell_type": "code",
      "metadata": {
        "id": "-EYQ14eNrTGs",
        "colab_type": "code",
        "outputId": "92077893-30d1-48c4-f8f2-c39fdc5962fa",
        "colab": {
          "base_uri": "https://localhost:8080/",
          "height": 252
        }
      },
      "source": [
        "# 4. Добавление столбца.\n",
        "# Например, добавим каждой станции условное обозначение - идентификатор\n",
        "df_exted.insert(0, 'id', ['t4', 't5', 'g', 't2', 't3'])\n",
        "\n",
        "print(df_exted)\n",
        "print()\n",
        "\n",
        "# Установка id в качестве индекса строки\n",
        "df_exted = df_exted.set_index('id')\n",
        "\n",
        "print(df_exted)"
      ],
      "execution_count": 0,
      "outputs": [
        {
          "output_type": "stream",
          "text": [
            "   id    имя  мощность  компания\n",
            "0  t4  ТЭЦ-4     384.0       СГК\n",
            "1  t5  ТЭЦ-5    1200.0       СГК\n",
            "2   g    ГЭС     480.0  РусГидро\n",
            "3  t2  ТЭЦ-2     340.0       СГК\n",
            "4  t3  ТЭЦ-3     511.5       СГК\n",
            "\n",
            "      имя  мощность  компания\n",
            "id                           \n",
            "t4  ТЭЦ-4     384.0       СГК\n",
            "t5  ТЭЦ-5    1200.0       СГК\n",
            "g     ГЭС     480.0  РусГидро\n",
            "t2  ТЭЦ-2     340.0       СГК\n",
            "t3  ТЭЦ-3     511.5       СГК\n"
          ],
          "name": "stdout"
        }
      ]
    },
    {
      "cell_type": "code",
      "metadata": {
        "id": "5jxzBtrHxY41",
        "colab_type": "code",
        "outputId": "b7e82afc-0cff-418a-ffdd-b28aacc56947",
        "colab": {
          "base_uri": "https://localhost:8080/",
          "height": 269
        }
      },
      "source": [
        "# 5. Сортировка\n",
        "df_exted = df_exted.sort_values(['имя'])\n",
        "print(df_exted)\n",
        "print()\n",
        "\n",
        "# ascending задает сортировку по убыванию или возрастанию\n",
        "# по умолчанию True - сортировка по убыванию, если поставить False, то будет по возрастанию\n",
        "df_exted = df_exted.sort_values(['мощность'], ascending = False)\n",
        "print(df_exted)"
      ],
      "execution_count": 0,
      "outputs": [
        {
          "output_type": "stream",
          "text": [
            "      имя  мощность  компания\n",
            "id                           \n",
            "g     ГЭС     480.0  РусГидро\n",
            "t2  ТЭЦ-2     340.0       СГК\n",
            "t3  ТЭЦ-3     511.5       СГК\n",
            "t4  ТЭЦ-4     384.0       СГК\n",
            "t5  ТЭЦ-5    1200.0       СГК\n",
            "\n",
            "      имя  мощность  компания\n",
            "id                           \n",
            "t5  ТЭЦ-5    1200.0       СГК\n",
            "t3  ТЭЦ-3     511.5       СГК\n",
            "g     ГЭС     480.0  РусГидро\n",
            "t4  ТЭЦ-4     384.0       СГК\n",
            "t2  ТЭЦ-2     340.0       СГК\n"
          ],
          "name": "stdout"
        }
      ]
    },
    {
      "cell_type": "code",
      "metadata": {
        "id": "fBfn3e3AAWja",
        "colab_type": "code",
        "outputId": "e8ce61d1-0b8c-48b4-a3cf-fe096037252c",
        "colab": {
          "base_uri": "https://localhost:8080/",
          "height": 269
        }
      },
      "source": [
        "# 6. Создание столбцов на основе вычислений.\n",
        "# Чтобы случайно не испортить df_exted, будем работать с копией\n",
        "df_exted_2 = df_exted.copy()\n",
        "\n",
        "# Добавление столбца на основе формулы делается легко\n",
        "df_exted_2['выработка_за_сутки'] = df_exted_2['мощность'] * 24 # 24 часа в сутках\n",
        "\n",
        "# Сложности могут возникнуть когда нужно реализовать условия и работать с текстовыми данными.\n",
        "# Например, нужно по названию определить тип электростанции.\n",
        "# Условия можно задавать через NumPy функцию where, а поиск подстроки в строке через find.\n",
        "# Так можно одной строкой задать целый алгоритм:\n",
        "# если в имени есть ГЭС:\n",
        "#   тип - ГЭС; \n",
        "# иначе \n",
        "#   если в имени есть ТЭЦ:\n",
        "#     тип - ТЭЦ\n",
        "#   иначе\n",
        "#     тип - не определен\n",
        "\n",
        "df_exted_2['тип'] = np.where(df_exted_2['имя'].str.find('ГЭС') >= 0, 'ГЭС', np.where(df_exted_2['имя'].str.find('ТЭЦ') >= 0, 'ТЭЦ', '?'))\n",
        "\n",
        "print(df_exted_2)\n",
        "print()\n",
        "\n",
        "# Легко применить расчеты, используя несколько столбцов сразу\n",
        "df_exted_2['проверка_расчетов'] =  df_exted_2['выработка_за_сутки'] / df_exted_2['мощность'] == 24\n",
        "print(df_exted_2)"
      ],
      "execution_count": 0,
      "outputs": [
        {
          "output_type": "stream",
          "text": [
            "      имя  мощность  компания  выработка_за_сутки  тип\n",
            "id                                                    \n",
            "t5  ТЭЦ-5    1200.0       СГК             28800.0  ТЭЦ\n",
            "t3  ТЭЦ-3     511.5       СГК             12276.0  ТЭЦ\n",
            "g     ГЭС     480.0  РусГидро             11520.0  ГЭС\n",
            "t4  ТЭЦ-4     384.0       СГК              9216.0  ТЭЦ\n",
            "t2  ТЭЦ-2     340.0       СГК              8160.0  ТЭЦ\n",
            "\n",
            "      имя  мощность  компания  выработка_за_сутки  тип  проверка_расчетов\n",
            "id                                                                       \n",
            "t5  ТЭЦ-5    1200.0       СГК             28800.0  ТЭЦ               True\n",
            "t3  ТЭЦ-3     511.5       СГК             12276.0  ТЭЦ               True\n",
            "g     ГЭС     480.0  РусГидро             11520.0  ГЭС               True\n",
            "t4  ТЭЦ-4     384.0       СГК              9216.0  ТЭЦ               True\n",
            "t2  ТЭЦ-2     340.0       СГК              8160.0  ТЭЦ               True\n"
          ],
          "name": "stdout"
        }
      ]
    },
    {
      "cell_type": "code",
      "metadata": {
        "id": "THZ3OOWGPpxP",
        "colab_type": "code",
        "outputId": "ffcd62de-b1a6-46c0-9558-8ba3a781885a",
        "colab": {
          "base_uri": "https://localhost:8080/",
          "height": 790
        }
      },
      "source": [
        "# 7. Выборка нужных фрагментов. Есть три основных способа выделения фрагментов.\n",
        "\n",
        "# 7.1. Через имя столбца или столбцов\n",
        "print('все данные из столбцов \\'имя\\' и \\'мощность\\'')\n",
        "print(df_exted_2[['имя', 'мощность']])\n",
        "print()\n",
        "print('все данные из столбца \\'имя\\'')\n",
        "print(df_exted_2.имя)\n",
        "print()\n",
        "\n",
        "# 7.2. Через loc по именам строк и столбцов\n",
        "print('данные из строк \\'g\\' и \\'t5\\' и столбцов \\'имя\\' и \\'мощность\\'')\n",
        "print(df_exted_2.loc[['g', 't5'], ['имя', 'мощность']])\n",
        "print()\n",
        "print('все данные из строки \\'t2\\'')\n",
        "print(df_exted_2.loc[['t2']])\n",
        "print()\n",
        "\n",
        "# 7.3. Через iloc по номерам строк и столбцов, номера идут с нуля\n",
        "print('данные из первой строки и второго столбца')\n",
        "print(df_exted_2.iloc[1 , 2])\n",
        "print()\n",
        "print('данные из всех строк кроме двух последних и из столбцов со второго по четвертый включительно')\n",
        "print(df_exted_2.iloc[: -2, 2 : 5])\n",
        "print()\n",
        "print('данные из нечетных строк и третьего столбца')\n",
        "print(df_exted_2.iloc[ : : 2, 3])\n",
        "print()"
      ],
      "execution_count": 0,
      "outputs": [
        {
          "output_type": "stream",
          "text": [
            "все данные из столбцов 'имя' и 'мощность'\n",
            "      имя  мощность\n",
            "id                 \n",
            "t5  ТЭЦ-5    1200.0\n",
            "t3  ТЭЦ-3     511.5\n",
            "g     ГЭС     480.0\n",
            "t4  ТЭЦ-4     384.0\n",
            "t2  ТЭЦ-2     340.0\n",
            "\n",
            "все данные из столбца 'имя'\n",
            "id\n",
            "t5    ТЭЦ-5\n",
            "t3    ТЭЦ-3\n",
            "g       ГЭС\n",
            "t4    ТЭЦ-4\n",
            "t2    ТЭЦ-2\n",
            "Name: имя, dtype: object\n",
            "\n",
            "данные из строк 'g' и 't5' и столбцов 'имя' и 'мощность'\n",
            "      имя  мощность\n",
            "id                 \n",
            "g     ГЭС     480.0\n",
            "t5  ТЭЦ-5    1200.0\n",
            "\n",
            "все данные из строки 't2'\n",
            "      имя  мощность компания  выработка_за_сутки  тип  проверка_расчетов\n",
            "id                                                                      \n",
            "t2  ТЭЦ-2     340.0      СГК              8160.0  ТЭЦ               True\n",
            "\n",
            "данные из первой строки и второго столбца\n",
            "СГК\n",
            "\n",
            "данные из всех строк кроме двух последних и из столбцов со второго по четвертый включительно\n",
            "    компания  выработка_за_сутки  тип\n",
            "id                                   \n",
            "t5       СГК             28800.0  ТЭЦ\n",
            "t3       СГК             12276.0  ТЭЦ\n",
            "g   РусГидро             11520.0  ГЭС\n",
            "\n",
            "данные из нечетных строк и третьего столбца\n",
            "id\n",
            "t5    28800.0\n",
            "g     11520.0\n",
            "t2     8160.0\n",
            "Name: выработка_за_сутки, dtype: float64\n",
            "\n"
          ],
          "name": "stdout"
        }
      ]
    },
    {
      "cell_type": "code",
      "metadata": {
        "id": "eyRPXBTcZrXo",
        "colab_type": "code",
        "outputId": "f4fef3d2-2c8d-4fb0-b1b7-da8644ee9dcd",
        "colab": {
          "base_uri": "https://localhost:8080/",
          "height": 134
        }
      },
      "source": [
        "# 8. Удаление столбцов.\n",
        "df_exted = df_exted_2.drop(['проверка_расчетов'], axis='columns')\n",
        "\n",
        "print(df_exted)"
      ],
      "execution_count": 0,
      "outputs": [
        {
          "output_type": "stream",
          "text": [
            "      имя  мощность  компания  выработка_за_сутки  тип\n",
            "id                                                    \n",
            "t5  ТЭЦ-5    1200.0       СГК             28800.0  ТЭЦ\n",
            "t3  ТЭЦ-3     511.5       СГК             12276.0  ТЭЦ\n",
            "g     ГЭС     480.0  РусГидро             11520.0  ГЭС\n",
            "t4  ТЭЦ-4     384.0       СГК              9216.0  ТЭЦ\n",
            "t2  ТЭЦ-2     340.0       СГК              8160.0  ТЭЦ\n"
          ],
          "name": "stdout"
        }
      ]
    },
    {
      "cell_type": "code",
      "metadata": {
        "id": "PBuFdfeSaCjB",
        "colab_type": "code",
        "outputId": "6d8c348e-b570-4f52-d301-34f79e22b04b",
        "colab": {
          "base_uri": "https://localhost:8080/",
          "height": 353
        }
      },
      "source": [
        "# 9. Выборка данных по условию.\n",
        "# Выбрать электростанции с мощностью выше 400 МВт\n",
        "print(df_exted[df_exted['мощность'] > 400.])\n",
        "print()\n",
        "\n",
        "# Можно писать короче, если имя столбца не содержит пробела\n",
        "print(df_exted[df_exted.мощность > 400.])\n",
        "print() \n",
        "\n",
        "# Выбрать электростанции с мощностью выше 400 МВт и не от СГК\n",
        "print(df_exted[(df_exted.мощность > 400.) & (df_exted.компания != 'СГК')])\n",
        "print() \n",
        "\n",
        "# Выбрать электростанции с мощностью выше 1000 МВт или относящиеся к ГЭС\n",
        "print(df_exted[(df_exted.мощность > 1000.) | (df_exted.тип == 'ГЭС')])"
      ],
      "execution_count": 0,
      "outputs": [
        {
          "output_type": "stream",
          "text": [
            "      имя  мощность  компания  выработка_за_сутки  тип\n",
            "id                                                    \n",
            "t5  ТЭЦ-5    1200.0       СГК             28800.0  ТЭЦ\n",
            "t3  ТЭЦ-3     511.5       СГК             12276.0  ТЭЦ\n",
            "g     ГЭС     480.0  РусГидро             11520.0  ГЭС\n",
            "\n",
            "      имя  мощность  компания  выработка_за_сутки  тип\n",
            "id                                                    \n",
            "t5  ТЭЦ-5    1200.0       СГК             28800.0  ТЭЦ\n",
            "t3  ТЭЦ-3     511.5       СГК             12276.0  ТЭЦ\n",
            "g     ГЭС     480.0  РусГидро             11520.0  ГЭС\n",
            "\n",
            "    имя  мощность  компания  выработка_за_сутки  тип\n",
            "id                                                  \n",
            "g   ГЭС     480.0  РусГидро             11520.0  ГЭС\n",
            "\n",
            "      имя  мощность  компания  выработка_за_сутки  тип\n",
            "id                                                    \n",
            "t5  ТЭЦ-5    1200.0       СГК             28800.0  ТЭЦ\n",
            "g     ГЭС     480.0  РусГидро             11520.0  ГЭС\n"
          ],
          "name": "stdout"
        }
      ]
    },
    {
      "cell_type": "code",
      "metadata": {
        "id": "k03rZ-tDb-Ix",
        "colab_type": "code",
        "outputId": "d0fe12ba-bca9-4772-e8db-cb4e74c077e0",
        "colab": {
          "base_uri": "https://localhost:8080/",
          "height": 286
        }
      },
      "source": [
        "# 10. Статистические расчеты по сгруппированным данным.\n",
        "# Суммарная мощность по типа электростанций.\n",
        "print(df_exted.groupby(['тип'])['мощность'].sum())\n",
        "print()\n",
        "\n",
        "# Максимальная мощность по типам электростанций.\n",
        "print(df_exted.groupby(['тип'])['мощность'].max())\n",
        "print()\n",
        "\n",
        "# Число электростанций по мощности ниже и выше 500 МВт и разделением по компаниям\n",
        "print(df_exted.groupby(['компания', df_exted['мощность'] > 500])['мощность'].count())\n",
        "print()"
      ],
      "execution_count": 0,
      "outputs": [
        {
          "output_type": "stream",
          "text": [
            "тип\n",
            "ГЭС     480.0\n",
            "ТЭЦ    2435.5\n",
            "Name: мощность, dtype: float64\n",
            "\n",
            "тип\n",
            "ГЭС     480.0\n",
            "ТЭЦ    1200.0\n",
            "Name: мощность, dtype: float64\n",
            "\n",
            "компания  мощность\n",
            "РусГидро  False       1\n",
            "СГК       False       2\n",
            "          True        2\n",
            "Name: мощность, dtype: int64\n",
            "\n"
          ],
          "name": "stdout"
        }
      ]
    },
    {
      "cell_type": "code",
      "metadata": {
        "id": "VkU429iYbBzS",
        "colab_type": "code",
        "outputId": "2d4f4d31-2364-4b79-bd9c-375e1277344e",
        "colab": {
          "base_uri": "https://localhost:8080/",
          "height": 299
        }
      },
      "source": [
        "# 11. Быстрая визуализация данных.\n",
        "# В предыдущей работе для визуализации данных применялись отдельные библиотеки.\n",
        "# Но для быстрого получения графиков и гистограмм можно использовать очень простой код. \n",
        "df_exted.plot(kind = 'bar')\n",
        "print()"
      ],
      "execution_count": 0,
      "outputs": [
        {
          "output_type": "stream",
          "text": [
            "\n"
          ],
          "name": "stdout"
        },
        {
          "output_type": "display_data",
          "data": {
            "image/png": "[encoded data removed]",
            "text/plain": [
              "<Figure size 432x288 with 1 Axes>"
            ]
          },
          "metadata": {
            "tags": [],
            "needs_background": "light"
          }
        }
      ]
    },
    {
      "cell_type": "code",
      "metadata": {
        "id": "SIN-gf13l1c6",
        "colab_type": "code",
        "outputId": "00c6d1d1-0955-46d9-c969-76682f93f806",
        "colab": {
          "base_uri": "https://localhost:8080/",
          "height": 297
        }
      },
      "source": [
        "# 12. Выбор столбцов для визуализации\n",
        "df_exted['мощность'].plot(kind = 'bar')\n",
        "print()"
      ],
      "execution_count": 0,
      "outputs": [
        {
          "output_type": "stream",
          "text": [
            "\n"
          ],
          "name": "stdout"
        },
        {
          "output_type": "display_data",
          "data": {
            "image/png": "[encoded data removed]",
            "text/plain": [
              "<Figure size 432x288 with 1 Axes>"
            ]
          },
          "metadata": {
            "tags": [],
            "needs_background": "light"
          }
        }
      ]
    },
    {
      "cell_type": "code",
      "metadata": {
        "id": "kb0aRfVjgxHe",
        "colab_type": "code",
        "outputId": "2ba45664-9601-4a6f-9011-3d8f2843362b",
        "colab": {
          "base_uri": "https://localhost:8080/",
          "height": 282
        }
      },
      "source": [
        "# 13. Гистограмма после группировки\n",
        "df_exted.groupby(['тип'])['мощность'].sum().plot(kind = 'barh')\n",
        "print()"
      ],
      "execution_count": 0,
      "outputs": [
        {
          "output_type": "stream",
          "text": [
            "\n"
          ],
          "name": "stdout"
        },
        {
          "output_type": "display_data",
          "data": {
            "image/png": "[encoded data removed]",
            "text/plain": [
              "<Figure size 432x288 with 1 Axes>"
            ]
          },
          "metadata": {
            "tags": [],
            "needs_background": "light"
          }
        }
      ]
    },
    {
      "cell_type": "code",
      "metadata": {
        "id": "H-mhDjw3lVar",
        "colab_type": "code",
        "outputId": "bc63e8aa-e10b-4c49-ea33-d0812da90293",
        "colab": {
          "base_uri": "https://localhost:8080/",
          "height": 101
        }
      },
      "source": [
        "# 14. Удаление строк по условию\n",
        "df_del = df_exted.drop(df_exted[df_exted['мощность'] < 400].index)\n",
        "print(df_del)"
      ],
      "execution_count": 0,
      "outputs": [
        {
          "output_type": "stream",
          "text": [
            "      имя  мощность  компания  выработка_за_сутки  тип\n",
            "id                                                    \n",
            "t5  ТЭЦ-5    1200.0       СГК             28800.0  ТЭЦ\n",
            "t3  ТЭЦ-3     511.5       СГК             12276.0  ТЭЦ\n",
            "g     ГЭС     480.0  РусГидро             11520.0  ГЭС\n"
          ],
          "name": "stdout"
        }
      ]
    }
  ]
}